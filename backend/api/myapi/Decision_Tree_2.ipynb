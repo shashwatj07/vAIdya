{
  "cells": [
    {
      "cell_type": "code",
      "execution_count": 137,
      "metadata": {
        "colab": {
          "base_uri": "https://localhost:8080/"
        },
        "id": "9V6F1Cj_eEcX",
        "outputId": "04daa918-f2c2-4ac1-8add-5a4e7674c158"
      },
      "outputs": [
        {
          "name": "stdout",
          "output_type": "stream",
          "text": [
            "Drive already mounted at /content/drive; to attempt to forcibly remount, call drive.mount(\"/content/drive\", force_remount=True).\n"
          ]
        }
      ],
      "source": [
        "import pandas as pd\n",
        "import numpy as np\n",
        "import matplotlib.pyplot as plt\n",
        "from sklearn.model_selection import train_test_split\n",
        "from sklearn.svm import SVC\n",
        "from sklearn.metrics import f1_score, accuracy_score, confusion_matrix\n",
        "import seaborn as sns\n",
        "\n",
        "from sklearn.tree import DecisionTreeClassifier\n",
        "from sklearn import preprocessing\n",
        "\n",
        "from google.colab import drive\n",
        "drive.mount('/content/drive')"
      ]
    },
    {
      "cell_type": "code",
      "execution_count": 138,
      "metadata": {
        "colab": {
          "base_uri": "https://localhost:8080/",
          "height": 357
        },
        "id": "hXPQWDNGeS0_",
        "outputId": "f0ecc411-af53-4e50-e1e2-f5e9aed5c538"
      },
      "outputs": [
        {
          "data": {
            "text/html": [
              "\n",
              "  <div id=\"df-5ed4f176-9e5f-4789-b2f1-cb22663e4cf1\">\n",
              "    <div class=\"colab-df-container\">\n",
              "      <div>\n",
              "<style scoped>\n",
              "    .dataframe tbody tr th:only-of-type {\n",
              "        vertical-align: middle;\n",
              "    }\n",
              "\n",
              "    .dataframe tbody tr th {\n",
              "        vertical-align: top;\n",
              "    }\n",
              "\n",
              "    .dataframe thead th {\n",
              "        text-align: right;\n",
              "    }\n",
              "</style>\n",
              "<table border=\"1\" class=\"dataframe\">\n",
              "  <thead>\n",
              "    <tr style=\"text-align: right;\">\n",
              "      <th></th>\n",
              "      <th>Disease</th>\n",
              "      <th>Symptom_1</th>\n",
              "      <th>Symptom_2</th>\n",
              "      <th>Symptom_3</th>\n",
              "      <th>Symptom_4</th>\n",
              "      <th>Symptom_5</th>\n",
              "      <th>Symptom_6</th>\n",
              "      <th>Symptom_7</th>\n",
              "      <th>Symptom_8</th>\n",
              "      <th>Symptom_9</th>\n",
              "      <th>Symptom_10</th>\n",
              "      <th>Symptom_11</th>\n",
              "      <th>Symptom_12</th>\n",
              "      <th>Symptom_13</th>\n",
              "      <th>Symptom_14</th>\n",
              "      <th>Symptom_15</th>\n",
              "      <th>Symptom_16</th>\n",
              "      <th>Symptom_17</th>\n",
              "    </tr>\n",
              "  </thead>\n",
              "  <tbody>\n",
              "    <tr>\n",
              "      <th>0</th>\n",
              "      <td>Fungal infection</td>\n",
              "      <td>itching</td>\n",
              "      <td>skin_rash</td>\n",
              "      <td>nodal_skin_eruptions</td>\n",
              "      <td>dischromic_patches</td>\n",
              "      <td>nan</td>\n",
              "      <td>nan</td>\n",
              "      <td>nan</td>\n",
              "      <td>nan</td>\n",
              "      <td>nan</td>\n",
              "      <td>nan</td>\n",
              "      <td>nan</td>\n",
              "      <td>nan</td>\n",
              "      <td>nan</td>\n",
              "      <td>nan</td>\n",
              "      <td>nan</td>\n",
              "      <td>nan</td>\n",
              "      <td>nan</td>\n",
              "    </tr>\n",
              "    <tr>\n",
              "      <th>1</th>\n",
              "      <td>Fungal infection</td>\n",
              "      <td>skin_rash</td>\n",
              "      <td>nodal_skin_eruptions</td>\n",
              "      <td>dischromic_patches</td>\n",
              "      <td>nan</td>\n",
              "      <td>nan</td>\n",
              "      <td>nan</td>\n",
              "      <td>nan</td>\n",
              "      <td>nan</td>\n",
              "      <td>nan</td>\n",
              "      <td>nan</td>\n",
              "      <td>nan</td>\n",
              "      <td>nan</td>\n",
              "      <td>nan</td>\n",
              "      <td>nan</td>\n",
              "      <td>nan</td>\n",
              "      <td>nan</td>\n",
              "      <td>nan</td>\n",
              "    </tr>\n",
              "    <tr>\n",
              "      <th>2</th>\n",
              "      <td>Fungal infection</td>\n",
              "      <td>itching</td>\n",
              "      <td>nodal_skin_eruptions</td>\n",
              "      <td>dischromic_patches</td>\n",
              "      <td>nan</td>\n",
              "      <td>nan</td>\n",
              "      <td>nan</td>\n",
              "      <td>nan</td>\n",
              "      <td>nan</td>\n",
              "      <td>nan</td>\n",
              "      <td>nan</td>\n",
              "      <td>nan</td>\n",
              "      <td>nan</td>\n",
              "      <td>nan</td>\n",
              "      <td>nan</td>\n",
              "      <td>nan</td>\n",
              "      <td>nan</td>\n",
              "      <td>nan</td>\n",
              "    </tr>\n",
              "    <tr>\n",
              "      <th>3</th>\n",
              "      <td>Fungal infection</td>\n",
              "      <td>itching</td>\n",
              "      <td>skin_rash</td>\n",
              "      <td>dischromic_patches</td>\n",
              "      <td>nan</td>\n",
              "      <td>nan</td>\n",
              "      <td>nan</td>\n",
              "      <td>nan</td>\n",
              "      <td>nan</td>\n",
              "      <td>nan</td>\n",
              "      <td>nan</td>\n",
              "      <td>nan</td>\n",
              "      <td>nan</td>\n",
              "      <td>nan</td>\n",
              "      <td>nan</td>\n",
              "      <td>nan</td>\n",
              "      <td>nan</td>\n",
              "      <td>nan</td>\n",
              "    </tr>\n",
              "    <tr>\n",
              "      <th>4</th>\n",
              "      <td>Fungal infection</td>\n",
              "      <td>itching</td>\n",
              "      <td>skin_rash</td>\n",
              "      <td>nodal_skin_eruptions</td>\n",
              "      <td>nan</td>\n",
              "      <td>nan</td>\n",
              "      <td>nan</td>\n",
              "      <td>nan</td>\n",
              "      <td>nan</td>\n",
              "      <td>nan</td>\n",
              "      <td>nan</td>\n",
              "      <td>nan</td>\n",
              "      <td>nan</td>\n",
              "      <td>nan</td>\n",
              "      <td>nan</td>\n",
              "      <td>nan</td>\n",
              "      <td>nan</td>\n",
              "      <td>nan</td>\n",
              "    </tr>\n",
              "  </tbody>\n",
              "</table>\n",
              "</div>\n",
              "      <button class=\"colab-df-convert\" onclick=\"convertToInteractive('df-5ed4f176-9e5f-4789-b2f1-cb22663e4cf1')\"\n",
              "              title=\"Convert this dataframe to an interactive table.\"\n",
              "              style=\"display:none;\">\n",
              "        \n",
              "  <svg xmlns=\"http://www.w3.org/2000/svg\" height=\"24px\"viewBox=\"0 0 24 24\"\n",
              "       width=\"24px\">\n",
              "    <path d=\"M0 0h24v24H0V0z\" fill=\"none\"/>\n",
              "    <path d=\"M18.56 5.44l.94 2.06.94-2.06 2.06-.94-2.06-.94-.94-2.06-.94 2.06-2.06.94zm-11 1L8.5 8.5l.94-2.06 2.06-.94-2.06-.94L8.5 2.5l-.94 2.06-2.06.94zm10 10l.94 2.06.94-2.06 2.06-.94-2.06-.94-.94-2.06-.94 2.06-2.06.94z\"/><path d=\"M17.41 7.96l-1.37-1.37c-.4-.4-.92-.59-1.43-.59-.52 0-1.04.2-1.43.59L10.3 9.45l-7.72 7.72c-.78.78-.78 2.05 0 2.83L4 21.41c.39.39.9.59 1.41.59.51 0 1.02-.2 1.41-.59l7.78-7.78 2.81-2.81c.8-.78.8-2.07 0-2.86zM5.41 20L4 18.59l7.72-7.72 1.47 1.35L5.41 20z\"/>\n",
              "  </svg>\n",
              "      </button>\n",
              "      \n",
              "  <style>\n",
              "    .colab-df-container {\n",
              "      display:flex;\n",
              "      flex-wrap:wrap;\n",
              "      gap: 12px;\n",
              "    }\n",
              "\n",
              "    .colab-df-convert {\n",
              "      background-color: #E8F0FE;\n",
              "      border: none;\n",
              "      border-radius: 50%;\n",
              "      cursor: pointer;\n",
              "      display: none;\n",
              "      fill: #1967D2;\n",
              "      height: 32px;\n",
              "      padding: 0 0 0 0;\n",
              "      width: 32px;\n",
              "    }\n",
              "\n",
              "    .colab-df-convert:hover {\n",
              "      background-color: #E2EBFA;\n",
              "      box-shadow: 0px 1px 2px rgba(60, 64, 67, 0.3), 0px 1px 3px 1px rgba(60, 64, 67, 0.15);\n",
              "      fill: #174EA6;\n",
              "    }\n",
              "\n",
              "    [theme=dark] .colab-df-convert {\n",
              "      background-color: #3B4455;\n",
              "      fill: #D2E3FC;\n",
              "    }\n",
              "\n",
              "    [theme=dark] .colab-df-convert:hover {\n",
              "      background-color: #434B5C;\n",
              "      box-shadow: 0px 1px 3px 1px rgba(0, 0, 0, 0.15);\n",
              "      filter: drop-shadow(0px 1px 2px rgba(0, 0, 0, 0.3));\n",
              "      fill: #FFFFFF;\n",
              "    }\n",
              "  </style>\n",
              "\n",
              "      <script>\n",
              "        const buttonEl =\n",
              "          document.querySelector('#df-5ed4f176-9e5f-4789-b2f1-cb22663e4cf1 button.colab-df-convert');\n",
              "        buttonEl.style.display =\n",
              "          google.colab.kernel.accessAllowed ? 'block' : 'none';\n",
              "\n",
              "        async function convertToInteractive(key) {\n",
              "          const element = document.querySelector('#df-5ed4f176-9e5f-4789-b2f1-cb22663e4cf1');\n",
              "          const dataTable =\n",
              "            await google.colab.kernel.invokeFunction('convertToInteractive',\n",
              "                                                     [key], {});\n",
              "          if (!dataTable) return;\n",
              "\n",
              "          const docLinkHtml = 'Like what you see? Visit the ' +\n",
              "            '<a target=\"_blank\" href=https://colab.research.google.com/notebooks/data_table.ipynb>data table notebook</a>'\n",
              "            + ' to learn more about interactive tables.';\n",
              "          element.innerHTML = '';\n",
              "          dataTable['output_type'] = 'display_data';\n",
              "          await google.colab.output.renderOutput(dataTable, element);\n",
              "          const docLink = document.createElement('div');\n",
              "          docLink.innerHTML = docLinkHtml;\n",
              "          element.appendChild(docLink);\n",
              "        }\n",
              "      </script>\n",
              "    </div>\n",
              "  </div>\n",
              "  "
            ],
            "text/plain": [
              "            Disease  Symptom_1  ... Symptom_16 Symptom_17\n",
              "0  Fungal infection    itching  ...        nan        nan\n",
              "1  Fungal infection  skin_rash  ...        nan        nan\n",
              "2  Fungal infection    itching  ...        nan        nan\n",
              "3  Fungal infection    itching  ...        nan        nan\n",
              "4  Fungal infection    itching  ...        nan        nan\n",
              "\n",
              "[5 rows x 18 columns]"
            ]
          },
          "execution_count": 138,
          "metadata": {},
          "output_type": "execute_result"
        }
      ],
      "source": [
        "# Cleaning the data\n",
        "\n",
        "df = pd.read_csv('/content/drive/MyDrive/assignment1c_data/dataset.csv')\n",
        "df = df.fillna('nan')\n",
        "\n",
        "labels = df['Disease']\n",
        "\n",
        "\n",
        "# Removing whitespaces from the symptoms\n",
        "df = df.apply(lambda x: x.str.replace(\" \",\"\") if x.dtype == \"object\" else x)\n",
        "df['Disease'] = labels\n",
        "df.head()"
      ]
    },
    {
      "cell_type": "code",
      "execution_count": 139,
      "metadata": {
        "colab": {
          "base_uri": "https://localhost:8080/"
        },
        "id": "1pphru2VfQ4Z",
        "outputId": "f6f8d855-5d45-4b75-c62d-bd2600b69216"
      },
      "outputs": [
        {
          "name": "stdout",
          "output_type": "stream",
          "text": [
            "                Symptom\n",
            "0               itching\n",
            "1             skin_rash\n",
            "2  nodal_skin_eruptions\n",
            "3   continuous_sneezing\n",
            "4             shivering\n"
          ]
        },
        {
          "data": {
            "text/plain": [
              "LabelBinarizer()"
            ]
          },
          "execution_count": 139,
          "metadata": {},
          "output_type": "execute_result"
        }
      ],
      "source": [
        "# Getting the list of all possible symptoms\n",
        "symptoms = pd.read_csv('/content/drive/MyDrive/assignment1c_data/Symptom-severity.csv')\n",
        "symptoms = symptoms.drop(['weight'],axis = 1)\n",
        "symptoms = symptoms.apply(lambda x: x.str.replace(\" \",\"\") if x.dtype == \"object\" else x)\n",
        "print(symptoms.head())\n",
        "\n",
        "pickle.dump(symptoms, open(\"./symptoms.pkl\",\"wb\"))\n",
        "\n",
        "# Using label binarizer to convert symptoms list into a binary array of length\n",
        "lb = preprocessing.LabelBinarizer()\n",
        "lb.fit(symptoms)\n",
        "# print(list(symptoms['Symptom']))"
      ]
    },
    {
      "cell_type": "code",
      "execution_count": 140,
      "metadata": {
        "id": "IcGqfGJ_hKc2"
      },
      "outputs": [],
      "source": [
        "x_vec = []\n",
        "y_vec = []\n",
        "for index, row in df.iterrows():\n",
        "    res = [x for x in row if (x != 'nan')]\n",
        "    y_vec.append(res[0])\n",
        "    res = res[1:]\n",
        "    x = sum(lb.transform(res)) # Gives binary array of size 132\n",
        "    x_vec.append(x)\n"
      ]
    },
    {
      "cell_type": "code",
      "execution_count": 141,
      "metadata": {
        "id": "zlGQyWOqiZ-m"
      },
      "outputs": [],
      "source": [
        "# Splitting the dataset into training and testing data\n",
        "x_train, x_test, y_train, y_test = train_test_split(x_vec, y_vec, shuffle=True, train_size = 0.85)"
      ]
    },
    {
      "cell_type": "code",
      "execution_count": 142,
      "metadata": {
        "id": "29PIrotnk1YK"
      },
      "outputs": [],
      "source": [
        "dt_clf_gini = DecisionTreeClassifier()\n",
        "dt_clf_gini.fit(x_train, y_train)\n",
        "y_pred_gini = dt_clf_gini.predict(x_test)"
      ]
    },
    {
      "cell_type": "code",
      "execution_count": 143,
      "metadata": {
        "colab": {
          "base_uri": "https://localhost:8080/"
        },
        "id": "_cL-iE7Uy65B",
        "outputId": "91819496-8a08-4e7c-d64c-53bb5a9b3f7f"
      },
      "outputs": [
        {
          "name": "stdout",
          "output_type": "stream",
          "text": [
            "Desicion Tree using Gini Index\n",
            "Accuracy is 100.0 %\n"
          ]
        }
      ],
      "source": [
        "print (\"Desicion Tree using Gini Index\\nAccuracy is\", accuracy_score(y_test,y_pred_gini)*100,\"%\")\n"
      ]
    },
    {
      "cell_type": "code",
      "execution_count": 144,
      "metadata": {
        "colab": {
          "base_uri": "https://localhost:8080/"
        },
        "id": "OBebrELVzD6M",
        "outputId": "a36e52fe-9b57-4571-d2a3-d740074b50f5"
      },
      "outputs": [
        {
          "name": "stdout",
          "output_type": "stream",
          "text": [
            "                                         precision    recall  f1-score   support\n",
            "\n",
            "(vertigo) Paroymsal  Positional Vertigo       1.00      1.00      1.00        19\n",
            "                                   AIDS       1.00      1.00      1.00        10\n",
            "                                   Acne       1.00      1.00      1.00        13\n",
            "                    Alcoholic hepatitis       1.00      1.00      1.00        21\n",
            "                                Allergy       1.00      1.00      1.00        10\n",
            "                              Arthritis       1.00      1.00      1.00        17\n",
            "                       Bronchial Asthma       1.00      1.00      1.00        11\n",
            "                   Cervical spondylosis       1.00      1.00      1.00        23\n",
            "                            Chicken pox       1.00      1.00      1.00        16\n",
            "                    Chronic cholestasis       1.00      1.00      1.00        15\n",
            "                            Common Cold       1.00      1.00      1.00        23\n",
            "                                 Dengue       1.00      1.00      1.00        19\n",
            "                              Diabetes        1.00      1.00      1.00        19\n",
            "           Dimorphic hemmorhoids(piles)       1.00      1.00      1.00        14\n",
            "                          Drug Reaction       1.00      1.00      1.00        13\n",
            "                       Fungal infection       1.00      1.00      1.00        28\n",
            "                                   GERD       1.00      1.00      1.00        19\n",
            "                        Gastroenteritis       1.00      1.00      1.00        19\n",
            "                           Heart attack       1.00      1.00      1.00        19\n",
            "                            Hepatitis B       1.00      1.00      1.00        19\n",
            "                            Hepatitis C       1.00      1.00      1.00        19\n",
            "                            Hepatitis D       1.00      1.00      1.00        21\n",
            "                            Hepatitis E       1.00      1.00      1.00        17\n",
            "                          Hypertension        1.00      1.00      1.00        19\n",
            "                        Hyperthyroidism       1.00      1.00      1.00        21\n",
            "                           Hypoglycemia       1.00      1.00      1.00        19\n",
            "                         Hypothyroidism       1.00      1.00      1.00        25\n",
            "                               Impetigo       1.00      1.00      1.00        10\n",
            "                               Jaundice       1.00      1.00      1.00        26\n",
            "                                Malaria       1.00      1.00      1.00        12\n",
            "                               Migraine       1.00      1.00      1.00        27\n",
            "                        Osteoarthristis       1.00      1.00      1.00        20\n",
            "           Paralysis (brain hemorrhage)       1.00      1.00      1.00        18\n",
            "                    Peptic ulcer diseae       1.00      1.00      1.00        16\n",
            "                              Pneumonia       1.00      1.00      1.00        24\n",
            "                              Psoriasis       1.00      1.00      1.00        11\n",
            "                           Tuberculosis       1.00      1.00      1.00        23\n",
            "                                Typhoid       1.00      1.00      1.00        20\n",
            "                Urinary tract infection       1.00      1.00      1.00        12\n",
            "                         Varicose veins       1.00      1.00      1.00        11\n",
            "                            hepatitis A       1.00      1.00      1.00        20\n",
            "\n",
            "                               accuracy                           1.00       738\n",
            "                              macro avg       1.00      1.00      1.00       738\n",
            "                           weighted avg       1.00      1.00      1.00       738\n",
            "\n",
            "[[19  0  0 ...  0  0  0]\n",
            " [ 0 10  0 ...  0  0  0]\n",
            " [ 0  0 13 ...  0  0  0]\n",
            " ...\n",
            " [ 0  0  0 ... 12  0  0]\n",
            " [ 0  0  0 ...  0 11  0]\n",
            " [ 0  0  0 ...  0  0 20]]\n"
          ]
        }
      ],
      "source": [
        "from sklearn.metrics import classification_report\n",
        "from sklearn.metrics import confusion_matrix\n",
        "predictions = dt_clf_gini.predict(x_test)\n",
        "\n",
        "\n",
        "print(classification_report(y_test, predictions))\n",
        "print(confusion_matrix(y_test, predictions))\n",
        "\n",
        "import pickle\n",
        "pickle.dump(dt_clf_gini, open(\"./model.pkl\",\"wb\"))\n",
        "pickle.dump(lb, open(\"./lb.pkl\",\"wb\"))\n"
      ]
    },
    {
      "cell_type": "code",
      "execution_count": 145,
      "metadata": {
        "id": "RN05FJPkzVQR"
      },
      "outputs": [],
      "source": [
        "# Testing some symptoms\n",
        "y = lb.transform(['dischromic_patches','itching','skin_rash','nodal_skin_eruptions'])\n",
        "y = sum(y)"
      ]
    },
    {
      "cell_type": "code",
      "execution_count": 146,
      "metadata": {
        "colab": {
          "base_uri": "https://localhost:8080/"
        },
        "id": "KHRoJyfLzmvp",
        "outputId": "f9dcb2ed-7e6c-495e-a998-75d2f7b8e662"
      },
      "outputs": [
        {
          "data": {
            "text/plain": [
              "array(['Fungal infection'], dtype='<U39')"
            ]
          },
          "execution_count": 146,
          "metadata": {},
          "output_type": "execute_result"
        }
      ],
      "source": [
        "dt_clf_gini.predict([y])"
      ]
    }
  ],
  "metadata": {
    "colab": {
      "collapsed_sections": [],
      "name": "Decision Tree_2.ipynb",
      "provenance": []
    },
    "kernelspec": {
      "display_name": "Python 3",
      "name": "python3"
    },
    "language_info": {
      "name": "python",
      "version": "3.10.1"
    }
  },
  "nbformat": 4,
  "nbformat_minor": 0
}
